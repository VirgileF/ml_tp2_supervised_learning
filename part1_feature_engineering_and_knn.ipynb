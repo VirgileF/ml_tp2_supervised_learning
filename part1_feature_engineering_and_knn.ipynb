{
 "cells": [
  {
   "cell_type": "markdown",
   "metadata": {},
   "source": [
    "# TP2 Machine Learning - Part 1: Feature engineering & Classification "
   ]
  },
  {
   "cell_type": "markdown",
   "metadata": {},
   "source": [
    "*William BLAUFUKS* & *Virgile FOY*  "
   ]
  },
  {
   "cell_type": "code",
   "execution_count": 1,
   "metadata": {},
   "outputs": [],
   "source": [
    "import numpy as np \n",
    "#np.set_printoptions(threshold=np.nan, suppress=True) \n",
    "import pandas as pd\n",
    "import warnings\n",
    "import matplotlib.pyplot as plt \n",
    "warnings.filterwarnings('ignore')\n",
    "from sklearn.model_selection import train_test_split, GridSearchCV, cross_validate, cross_val_score, KFold\n",
    "from sklearn.feature_selection import SelectKBest, f_classif\n",
    "from sklearn.neighbors import KNeighborsClassifier\n",
    "from sklearn.metrics import confusion_matrix, accuracy_score\n",
    "from sklearn.preprocessing import StandardScaler, MinMaxScaler\n",
    "from sklearn.decomposition import PCA\n",
    "from sklearn.ensemble import RandomForestClassifier\n",
    "from sklearn.tree import DecisionTreeClassifier\n",
    "from sklearn.pipeline import Pipeline, FeatureUnion\n",
    "import seaborn as sns\n",
    "import pickle\n",
    "\n",
    "from sklearn.naive_bayes import GaussianNB\n",
    "from sklearn.tree import DecisionTreeClassifier\n",
    "from sklearn.neural_network import MLPClassifier\n",
    "from sklearn.neighbors import KNeighborsClassifier\n",
    "from sklearn.linear_model import LogisticRegression\n",
    "from sklearn.svm import SVC\n",
    "from sklearn.neighbors import KNeighborsClassifier\n",
    "from sklearn.ensemble import BaggingClassifier,RandomForestClassifier, GradientBoostingClassifier,AdaBoostClassifier"
   ]
  },
  {
   "cell_type": "markdown",
   "metadata": {},
   "source": [
    "## 1. Data loading & preprocessing"
   ]
  },
  {
   "cell_type": "code",
   "execution_count": 2,
   "metadata": {},
   "outputs": [],
   "source": [
    "# data loading\n",
    "df_csv = pd.read_csv('credit_scoring.csv', sep=';')"
   ]
  },
  {
   "cell_type": "code",
   "execution_count": 3,
   "metadata": {},
   "outputs": [
    {
     "data": {
      "text/html": [
       "<div>\n",
       "<style scoped>\n",
       "    .dataframe tbody tr th:only-of-type {\n",
       "        vertical-align: middle;\n",
       "    }\n",
       "\n",
       "    .dataframe tbody tr th {\n",
       "        vertical-align: top;\n",
       "    }\n",
       "\n",
       "    .dataframe thead th {\n",
       "        text-align: right;\n",
       "    }\n",
       "</style>\n",
       "<table border=\"1\" class=\"dataframe\">\n",
       "  <thead>\n",
       "    <tr style=\"text-align: right;\">\n",
       "      <th></th>\n",
       "      <th>Seniority</th>\n",
       "      <th>Home</th>\n",
       "      <th>Time</th>\n",
       "      <th>Age</th>\n",
       "      <th>Marital</th>\n",
       "      <th>Records</th>\n",
       "      <th>Job</th>\n",
       "      <th>Expenses</th>\n",
       "      <th>Income</th>\n",
       "      <th>Assets</th>\n",
       "      <th>Debt</th>\n",
       "      <th>Amount</th>\n",
       "      <th>Price</th>\n",
       "      <th>Status</th>\n",
       "    </tr>\n",
       "  </thead>\n",
       "  <tbody>\n",
       "    <tr>\n",
       "      <th>0</th>\n",
       "      <td>9.0</td>\n",
       "      <td>1.0</td>\n",
       "      <td>60.0</td>\n",
       "      <td>30.0</td>\n",
       "      <td>0.0</td>\n",
       "      <td>1.0</td>\n",
       "      <td>1.0</td>\n",
       "      <td>73.0</td>\n",
       "      <td>129.0</td>\n",
       "      <td>0.0</td>\n",
       "      <td>0.0</td>\n",
       "      <td>800.0</td>\n",
       "      <td>846.0</td>\n",
       "      <td>1</td>\n",
       "    </tr>\n",
       "    <tr>\n",
       "      <th>1</th>\n",
       "      <td>17.0</td>\n",
       "      <td>1.0</td>\n",
       "      <td>60.0</td>\n",
       "      <td>58.0</td>\n",
       "      <td>1.0</td>\n",
       "      <td>1.0</td>\n",
       "      <td>0.0</td>\n",
       "      <td>48.0</td>\n",
       "      <td>131.0</td>\n",
       "      <td>0.0</td>\n",
       "      <td>0.0</td>\n",
       "      <td>1000.0</td>\n",
       "      <td>1658.0</td>\n",
       "      <td>1</td>\n",
       "    </tr>\n",
       "    <tr>\n",
       "      <th>2</th>\n",
       "      <td>10.0</td>\n",
       "      <td>0.0</td>\n",
       "      <td>36.0</td>\n",
       "      <td>46.0</td>\n",
       "      <td>0.0</td>\n",
       "      <td>2.0</td>\n",
       "      <td>1.0</td>\n",
       "      <td>90.0</td>\n",
       "      <td>200.0</td>\n",
       "      <td>3000.0</td>\n",
       "      <td>0.0</td>\n",
       "      <td>2000.0</td>\n",
       "      <td>2985.0</td>\n",
       "      <td>0</td>\n",
       "    </tr>\n",
       "    <tr>\n",
       "      <th>3</th>\n",
       "      <td>0.0</td>\n",
       "      <td>1.0</td>\n",
       "      <td>60.0</td>\n",
       "      <td>24.0</td>\n",
       "      <td>1.0</td>\n",
       "      <td>1.0</td>\n",
       "      <td>0.0</td>\n",
       "      <td>63.0</td>\n",
       "      <td>182.0</td>\n",
       "      <td>2500.0</td>\n",
       "      <td>0.0</td>\n",
       "      <td>900.0</td>\n",
       "      <td>1325.0</td>\n",
       "      <td>1</td>\n",
       "    </tr>\n",
       "    <tr>\n",
       "      <th>4</th>\n",
       "      <td>0.0</td>\n",
       "      <td>1.0</td>\n",
       "      <td>36.0</td>\n",
       "      <td>26.0</td>\n",
       "      <td>1.0</td>\n",
       "      <td>1.0</td>\n",
       "      <td>0.0</td>\n",
       "      <td>46.0</td>\n",
       "      <td>107.0</td>\n",
       "      <td>0.0</td>\n",
       "      <td>0.0</td>\n",
       "      <td>310.0</td>\n",
       "      <td>910.0</td>\n",
       "      <td>1</td>\n",
       "    </tr>\n",
       "  </tbody>\n",
       "</table>\n",
       "</div>"
      ],
      "text/plain": [
       "   Seniority  Home  Time   Age  Marital  Records  Job  Expenses  Income  \\\n",
       "0        9.0   1.0  60.0  30.0      0.0      1.0  1.0      73.0   129.0   \n",
       "1       17.0   1.0  60.0  58.0      1.0      1.0  0.0      48.0   131.0   \n",
       "2       10.0   0.0  36.0  46.0      0.0      2.0  1.0      90.0   200.0   \n",
       "3        0.0   1.0  60.0  24.0      1.0      1.0  0.0      63.0   182.0   \n",
       "4        0.0   1.0  36.0  26.0      1.0      1.0  0.0      46.0   107.0   \n",
       "\n",
       "   Assets  Debt  Amount   Price  Status  \n",
       "0     0.0   0.0   800.0   846.0       1  \n",
       "1     0.0   0.0  1000.0  1658.0       1  \n",
       "2  3000.0   0.0  2000.0  2985.0       0  \n",
       "3  2500.0   0.0   900.0  1325.0       1  \n",
       "4     0.0   0.0   310.0   910.0       1  "
      ]
     },
     "execution_count": 3,
     "metadata": {},
     "output_type": "execute_result"
    }
   ],
   "source": [
    "df_csv.head()"
   ]
  },
  {
   "cell_type": "code",
   "execution_count": 4,
   "metadata": {},
   "outputs": [
    {
     "name": "stdout",
     "output_type": "stream",
     "text": [
      "(4375, 14)\n",
      "         Seniority         Home         Time          Age      Marital  \\\n",
      "count  4375.000000  4375.000000  4375.000000  4375.000000  4375.000000   \n",
      "mean      7.985143     0.528229    46.518857    37.021714     0.271086   \n",
      "std       8.173922     0.499260    14.619282    10.973187     0.444571   \n",
      "min       0.000000     0.000000     6.000000    18.000000     0.000000   \n",
      "25%       2.000000     0.000000    36.000000    28.000000     0.000000   \n",
      "50%       5.000000     1.000000    48.000000    36.000000     0.000000   \n",
      "75%      12.000000     1.000000    60.000000    45.000000     1.000000   \n",
      "max      48.000000     1.000000    72.000000    68.000000     1.000000   \n",
      "\n",
      "           Records          Job     Expenses       Income         Assets  \\\n",
      "count  4375.000000  4375.000000  4375.000000  4375.000000    4375.000000   \n",
      "mean      1.172114     0.364114    55.595200   130.848914    5298.431314   \n",
      "std       0.377523     0.481236    19.451569    86.199518   10582.377366   \n",
      "min       1.000000     0.000000    35.000000     0.000000       0.000000   \n",
      "25%       1.000000     0.000000    35.000000    80.000000       0.000000   \n",
      "50%       1.000000     0.000000    51.000000   120.000000    3000.000000   \n",
      "75%       1.000000     1.000000    72.000000   165.000000    6000.000000   \n",
      "max       2.000000     1.000000   173.000000   959.000000  250000.000000   \n",
      "\n",
      "               Debt       Amount         Price       Status  \n",
      "count   4375.000000  4375.000000   4375.000000  4375.000000  \n",
      "mean     342.551543  1037.463771   1459.732343     0.722057  \n",
      "std     1217.622800   469.753531    621.775995     0.448036  \n",
      "min        0.000000   100.000000    105.000000     0.000000  \n",
      "25%        0.000000   700.000000   1116.500000     0.000000  \n",
      "50%        0.000000  1000.000000   1400.000000     1.000000  \n",
      "75%        0.000000  1300.000000   1688.000000     1.000000  \n",
      "max    30000.000000  4500.000000  11140.000000     1.000000  \n"
     ]
    }
   ],
   "source": [
    "# Seniority, Time, Age, \n",
    "\n",
    "df = df_csv.copy()\n",
    "\n",
    "# shape and summary\n",
    "print(df.shape)\n",
    "print(df.describe())"
   ]
  },
  {
   "cell_type": "code",
   "execution_count": 5,
   "metadata": {},
   "outputs": [
    {
     "data": {
      "text/plain": [
       "Text(0.5, 0, 'Status')"
      ]
     },
     "execution_count": 5,
     "metadata": {},
     "output_type": "execute_result"
    },
    {
     "data": {
      "image/png": "[encoded data removed]",
      "text/plain": [
       "<Figure size 432x288 with 1 Axes>"
      ]
     },
     "metadata": {
      "needs_background": "light"
     },
     "output_type": "display_data"
    }
   ],
   "source": [
    "df = df_csv.copy()\n",
    "\n",
    "# distribution of dependent variable\n",
    "df['Status'].value_counts().plot(kind='bar')\n",
    "plt.xlabel('Status')"
   ]
  },
  {
   "cell_type": "code",
   "execution_count": 6,
   "metadata": {},
   "outputs": [
    {
     "data": {
      "image/png": "[encoded data removed]",
      "text/plain": [
       "<Figure size 432x288 with 1 Axes>"
      ]
     },
     "metadata": {
      "needs_background": "light"
     },
     "output_type": "display_data"
    }
   ],
   "source": [
    "df = df_csv.copy()\n",
    "\n",
    "ax = sns.countplot(x=\"Status\", hue=\"Job\", data=df)"
   ]
  },
  {
   "cell_type": "markdown",
   "metadata": {},
   "source": [
    "Note that people without a full-time contract pay their loan back more often."
   ]
  },
  {
   "cell_type": "code",
   "execution_count": 7,
   "metadata": {},
   "outputs": [
    {
     "data": {
      "text/plain": [
       "<matplotlib.axes._subplots.AxesSubplot at 0x11a0ab3d0>"
      ]
     },
     "execution_count": 7,
     "metadata": {},
     "output_type": "execute_result"
    },
    {
     "data": {
      "image/png": "[encoded data removed]",
      "text/plain": [
       "<Figure size 432x288 with 1 Axes>"
      ]
     },
     "metadata": {
      "needs_background": "light"
     },
     "output_type": "display_data"
    }
   ],
   "source": [
    "df = df_csv.copy()\n",
    "\n",
    "# Distribution of ages\n",
    "df['Age'].plot.hist()"
   ]
  },
  {
   "cell_type": "code",
   "execution_count": 8,
   "metadata": {},
   "outputs": [
    {
     "data": {
      "text/plain": [
       "<matplotlib.legend.Legend at 0x119e5df10>"
      ]
     },
     "execution_count": 8,
     "metadata": {},
     "output_type": "execute_result"
    },
    {
     "data": {
      "image/png": "[encoded data removed]",
      "text/plain": [
       "<Figure size 432x288 with 1 Axes>"
      ]
     },
     "metadata": {
      "needs_background": "light"
     },
     "output_type": "display_data"
    }
   ],
   "source": [
    "df = df_csv.copy()\n",
    "\n",
    "# Distribution of 'Status' in function of 'Age'\n",
    "plt.style.use('seaborn-deep')\n",
    "plt.hist([df[df['Status'] == 1]['Age'], df[df['Status'] == 0]['Age']], label=['status=1', 'status=0'])\n",
    "plt.xlabel('Age')\n",
    "plt.ylabel('Frequency')\n",
    "plt.legend()"
   ]
  },
  {
   "cell_type": "code",
   "execution_count": 9,
   "metadata": {},
   "outputs": [
    {
     "name": "stdout",
     "output_type": "stream",
     "text": [
      "(4375, 13)\n",
      "(4375,)\n"
     ]
    }
   ],
   "source": [
    "df = df_csv.copy()\n",
    "\n",
    "# To np array\n",
    "df = df.to_numpy()\n",
    "X = df[:, :-1]\n",
    "y = df[:, -1]\n",
    "\n",
    "# Test\n",
    "print(X.shape)\n",
    "print(y.shape)"
   ]
  },
  {
   "cell_type": "code",
   "execution_count": 10,
   "metadata": {},
   "outputs": [
    {
     "name": "stdout",
     "output_type": "stream",
     "text": [
      "(2187, 13)\n",
      "(2188, 13)\n",
      "(2187,)\n",
      "(2188,)\n"
     ]
    }
   ],
   "source": [
    "# Train-test split\n",
    "X_train, X_test, y_train, y_test = train_test_split(X, y, test_size=0.5, random_state=1)\n",
    "\n",
    "# Test\n",
    "print(X_train.shape)\n",
    "print(X_test.shape)\n",
    "print(y_train.shape)\n",
    "print(y_test.shape)"
   ]
  },
  {
   "cell_type": "code",
   "execution_count": 11,
   "metadata": {},
   "outputs": [],
   "source": [
    "def preprocessing(test_size=.5):\n",
    "    \n",
    "    df_csv = pd.read_csv('credit_scoring.csv', sep=';')\n",
    "    df = df_csv.to_numpy()\n",
    "    X = df[:, :-1]\n",
    "    y = df[:, -1]\n",
    "    \n",
    "    X_train, X_test, y_train, y_test = train_test_split(X, y, test_size=test_size, random_state=1)\n",
    "    \n",
    "    return X_train, X_test, y_train, y_test"
   ]
  },
  {
   "cell_type": "markdown",
   "metadata": {},
   "source": [
    "## 2. Training & Model evaluation"
   ]
  },
  {
   "cell_type": "code",
   "execution_count": 13,
   "metadata": {},
   "outputs": [
    {
     "name": "stdout",
     "output_type": "stream",
     "text": [
      "Baseline model\n",
      "====================\n",
      "Accuracy: 0.4040219378427788\n",
      "Precision: 0.7243589743589743\n",
      "\n"
     ]
    }
   ],
   "source": [
    "# Baseline model\n",
    "\n",
    "def eval_baseline(X_train, X_test, y_train, y_test):\n",
    "    \n",
    "    np.random.seed(1)\n",
    "    trigger = y_train.mean()\n",
    "\n",
    "    y_pred = np.random.uniform(size=y_test.shape) > trigger\n",
    "    y_true = y_test\n",
    "    \n",
    "    acc = accuracy_score(y_true, y_pred)\n",
    "    \n",
    "    tn, fp, fn, tp = confusion_matrix(y_true, y_pred).ravel()\n",
    "    \n",
    "    # Precision is more important because we don't want to \"shoot too large\", we don't want many FALSE POSITIVES.\n",
    "    precision = tp / (tp + fp)\n",
    "    \n",
    "    return acc, precision\n",
    "\n",
    "# Tests\n",
    "X_train, X_test, y_train, y_test = preprocessing()\n",
    "acc, precision = eval_baseline(X_train, X_test, y_train, y_test)\n",
    "print('Baseline model')\n",
    "print('====================')\n",
    "print('Accuracy: {}'.format(acc))\n",
    "print('Precision: {}'.format(precision))\n",
    "print('')\n"
   ]
  },
  {
   "cell_type": "code",
   "execution_count": 14,
   "metadata": {},
   "outputs": [
    {
     "name": "stdout",
     "output_type": "stream",
     "text": [
      "K-nn (5 neighbors)\n",
      "====================\n",
      "Accuracy: 0.7248628884826326\n",
      "Precision: 0.7709713024282561\n",
      "\n"
     ]
    }
   ],
   "source": [
    "# K-NN\n",
    "\n",
    "def eval_knn(X_train, X_test, y_train, y_test, n_neighbors=5):\n",
    "    \n",
    "    neigh = KNeighborsClassifier(n_neighbors=n_neighbors)\n",
    "    neigh.fit(X_train, y_train)\n",
    "\n",
    "    acc = neigh.score(X_test, y_test)\n",
    "\n",
    "    y_true, y_pred = y_test, neigh.predict(X_test)\n",
    "    tn, fp, fn, tp = confusion_matrix(y_true, y_pred).ravel()\n",
    "\n",
    "    # Precision is more important because we don't want to \"shoot too large\", we don't want many FALSE POSITIVES.\n",
    "    precision = tp / (tp + fp)\n",
    "    \n",
    "    return acc, precision\n",
    "\n",
    "# Tests\n",
    "X_train, X_test, y_train, y_test = preprocessing()\n",
    "acc, precision = eval_knn(X_train, X_test, y_train, y_test)\n",
    "print('K-nn (5 neighbors)')\n",
    "print('====================')\n",
    "print('Accuracy: {}'.format(acc))\n",
    "print('Precision: {}'.format(precision))\n",
    "print('')"
   ]
  },
  {
   "cell_type": "markdown",
   "metadata": {},
   "source": [
    "The K-nn model (with 5 neighbors) has both a better accuracy and a better precision than the baseline model."
   ]
  },
  {
   "cell_type": "code",
   "execution_count": 15,
   "metadata": {},
   "outputs": [
    {
     "name": "stdout",
     "output_type": "stream",
     "text": [
      "CART\n",
      "====================\n",
      "Accuracy: 0.7271480804387569\n",
      "Precision: 0.8194174757281554\n",
      "\n"
     ]
    }
   ],
   "source": [
    "# CART\n",
    "\n",
    "def eval_cart(X_train, X_test, y_train, y_test):\n",
    "    \n",
    "    cart = DecisionTreeClassifier(random_state=1)\n",
    "    cart.fit(X_train, y_train)\n",
    "    \n",
    "    acc = cart.score(X_test, y_test)\n",
    "    \n",
    "    y_true, y_pred = y_test, cart.predict(X_test)\n",
    "    tn, fp, fn, tp = confusion_matrix(y_true, y_pred).ravel()\n",
    "    \n",
    "    # Precision is more important because we don't want to \"shoot too large\", we don't want many FALSE POSITIVES.\n",
    "    precision = tp / (tp + fp)\n",
    "    \n",
    "    return acc, precision\n",
    "\n",
    "# Tests\n",
    "X_train, X_test, y_train, y_test = preprocessing()\n",
    "acc, precision = eval_cart(X_train, X_test, y_train, y_test)\n",
    "print('CART')\n",
    "print('====================')\n",
    "print('Accuracy: {}'.format(acc))\n",
    "print('Precision: {}'.format(precision))\n",
    "print('')"
   ]
  },
  {
   "cell_type": "markdown",
   "metadata": {},
   "source": [
    "CART model has both a better accuracy and a better precision than the KNN model."
   ]
  },
  {
   "cell_type": "markdown",
   "metadata": {},
   "source": [
    "## 3. Continuous variables scaling\n",
    "\n"
   ]
  },
  {
   "cell_type": "code",
   "execution_count": 16,
   "metadata": {},
   "outputs": [
    {
     "name": "stdout",
     "output_type": "stream",
     "text": [
      "k-nn without scaling\n",
      "====================\n",
      "Accuracy: 0.7248628884826326\n",
      "Precision: 0.7709713024282561\n",
      "\n",
      "k-nn with standard scaling\n",
      "====================\n",
      "Accuracy: 0.7527422303473492\n",
      "Precision: 0.8106015485407981\n",
      "\n",
      "k-nn with min-max scaling\n",
      "====================\n",
      "Accuracy: 0.7454296160877514\n",
      "Precision: 0.8076692630317556\n",
      "\n",
      "CART without scaling\n",
      "====================\n",
      "Accuracy: 0.7285191956124314\n",
      "Precision: 0.8197674418604651\n",
      "\n",
      "CART with standard scaling\n",
      "====================\n",
      "Accuracy: 0.7271480804387569\n",
      "Precision: 0.8181818181818182\n",
      "\n",
      "CART with min-max scaling\n",
      "====================\n",
      "Accuracy: 0.7285191956124314\n",
      "Precision: 0.8197674418604651\n",
      "\n"
     ]
    }
   ],
   "source": [
    "# Scaling\n",
    "def scale(X_train, X_test, scaler=None):\n",
    "\n",
    "    if scaler == 'StandardScaler':\n",
    "        scaler = StandardScaler()\n",
    "        scaler.fit(X_train)\n",
    "        \n",
    "    elif scaler == 'MinMaxScaler':\n",
    "        scaler = MinMaxScaler()\n",
    "        scaler.fit(X_train)\n",
    "\n",
    "    X_train = scaler.transform(X_train)\n",
    "    X_test = scaler.transform(X_test)\n",
    "\n",
    "    return X_train, X_test\n",
    "\n",
    "# Tests\n",
    "X_train, X_test, y_train, y_test = preprocessing()\n",
    "\n",
    "# k-nn without scaler (same than above)\n",
    "acc, precision = eval_knn(X_train, X_test, y_train, y_test)\n",
    "print('k-nn without scaling')\n",
    "print('====================')\n",
    "print('Accuracy: {}'.format(acc))\n",
    "print('Precision: {}'.format(precision))\n",
    "print('')\n",
    "\n",
    "# k-nn with standard scaler\n",
    "X_train, X_test = scale(X_train, X_test, scaler='StandardScaler')\n",
    "acc, precision = eval_knn(X_train, X_test, y_train, y_test)\n",
    "print('k-nn with standard scaling')\n",
    "print('====================')\n",
    "print('Accuracy: {}'.format(acc))\n",
    "print('Precision: {}'.format(precision))\n",
    "print('')\n",
    "\n",
    "# k-nn with min-max scaler\n",
    "X_train, X_test = scale(X_train, X_test, scaler='MinMaxScaler')\n",
    "acc, precision = eval_knn(X_train, X_test, y_train, y_test)\n",
    "print('k-nn with min-max scaling')\n",
    "print('====================')\n",
    "print('Accuracy: {}'.format(acc))\n",
    "print('Precision: {}'.format(precision))\n",
    "print('')\n",
    "\n",
    "# CART without scaler (same than above)\n",
    "acc, precision = eval_cart(X_train, X_test, y_train, y_test)\n",
    "print('CART without scaling')\n",
    "print('====================')\n",
    "print('Accuracy: {}'.format(acc))\n",
    "print('Precision: {}'.format(precision))\n",
    "print('')\n",
    "\n",
    "# CART with standard scaler\n",
    "X_train, X_test = scale(X_train, X_test, scaler='StandardScaler')\n",
    "acc, precision = eval_cart(X_train, X_test, y_train, y_test)\n",
    "print('CART with standard scaling')\n",
    "print('====================')\n",
    "print('Accuracy: {}'.format(acc))\n",
    "print('Precision: {}'.format(precision))\n",
    "print('')\n",
    "\n",
    "# CART with min-max scaler\n",
    "X_train, X_test = scale(X_train, X_test, scaler='MinMaxScaler')\n",
    "acc, precision = eval_cart(X_train, X_test, y_train, y_test)\n",
    "print('CART with min-max scaling')\n",
    "print('====================')\n",
    "print('Accuracy: {}'.format(acc))\n",
    "print('Precision: {}'.format(precision))\n",
    "print('')"
   ]
  },
  {
   "cell_type": "markdown",
   "metadata": {},
   "source": [
    "It turns out the best accuracy is obtained with the KNN model after standard scaling.\n",
    "But as the best precision is obtained with the __CART model after min-max scaling__, we'll select the latter."
   ]
  },
  {
   "cell_type": "markdown",
   "metadata": {},
   "source": [
    "## 4. Creation of new variables"
   ]
  },
  {
   "cell_type": "code",
   "execution_count": 18,
   "metadata": {},
   "outputs": [
    {
     "name": "stdout",
     "output_type": "stream",
     "text": [
      "k-nn (5 neighbors) with standard scaling and PCA columns\n",
      "====================\n",
      "Accuracy: 0.756398537477148\n",
      "Precision: 0.8103957471943296\n",
      "\n",
      "CART with standard scaling and PCA columns\n",
      "====================\n",
      "Accuracy: 0.7362888482632541\n",
      "Precision: 0.8327825512227363\n",
      "\n"
     ]
    }
   ],
   "source": [
    "# PCA\n",
    "def add_pca_columns(X, X_train, n_components=3):\n",
    "    \n",
    "    pca = PCA(n_components=n_components).fit(X_train)\n",
    "    \n",
    "    X_pca = pca.transform(X)\n",
    "    \n",
    "    X_new = np.concatenate([X, X_pca], axis=1)\n",
    "    \n",
    "    return X_new\n",
    "\n",
    "# Tests\n",
    "X_train, X_test, y_train, y_test = preprocessing()\n",
    "X_train, X_test = scale(X_train, X_test, scaler='StandardScaler')\n",
    "X_train_pca = add_pca_columns(X_train, X_train)\n",
    "X_test_pca = add_pca_columns(X_test, X_train)\n",
    "\n",
    "acc, precision = eval_knn(X_train_pca, X_test_pca, y_train, y_test)\n",
    "print('k-nn (5 neighbors) with standard scaling and PCA columns')\n",
    "print('====================')\n",
    "print('Accuracy: {}'.format(acc))\n",
    "print('Precision: {}'.format(precision))\n",
    "print('')\n",
    "\n",
    "acc, precision = eval_cart(X_train_pca, X_test_pca, y_train, y_test)\n",
    "print('CART with standard scaling and PCA columns')\n",
    "print('====================')\n",
    "print('Accuracy: {}'.format(acc))\n",
    "print('Precision: {}'.format(precision))\n",
    "print('')"
   ]
  },
  {
   "cell_type": "markdown",
   "metadata": {},
   "source": [
    "## 5. Variable selection"
   ]
  },
  {
   "cell_type": "code",
   "execution_count": 19,
   "metadata": {},
   "outputs": [
    {
     "name": "stdout",
     "output_type": "stream",
     "text": [
      "['Income' 'Seniority' 'Price' 'Amount' 'Age' 'Assets' 'Expenses' 'Records'\n",
      " 'Time' 'Job' 'Debt' 'Home' 'Marital']\n"
     ]
    },
    {
     "data": {
      "image/png": "[encoded data removed]",
      "text/plain": [
       "<Figure size 432x288 with 1 Axes>"
      ]
     },
     "metadata": {
      "needs_background": "light"
     },
     "output_type": "display_data"
    }
   ],
   "source": [
    "X_train, X_test, y_train, y_test = preprocessing()\n",
    "Xtrain_scale, Xtest_scale = scale(X_train, X_test, scaler='StandardScaler')\n",
    "\n",
    "clf = RandomForestClassifier(n_estimators=100) \n",
    "clf.fit(Xtrain_scale, y_train) \n",
    "importances=clf.feature_importances_\n",
    "std = np.std([tree.feature_importances_ for tree in clf.estimators_],axis=0) \n",
    "\n",
    "sorted_idx = np.argsort(importances)[::-1]\n",
    "\n",
    "col_names = pd.read_csv('credit_scoring.csv', sep=';').columns.values\n",
    "features = col_names\n",
    "print(features[sorted_idx])\n",
    "padding = np.arange(Xtrain_scale.size/len(Xtrain_scale)) + 0.5 \n",
    "plt.barh(padding, importances[sorted_idx],xerr=std[sorted_idx], align='center') \n",
    "plt.yticks(padding, features[sorted_idx])\n",
    "plt.xlabel(\"Relative Importance\")\n",
    "plt.title(\"Variable Importance\")\n",
    "plt.show()"
   ]
  },
  {
   "cell_type": "markdown",
   "metadata": {},
   "source": [
    "Note that Income, Seniority, Price and Amount are the most significant variables in this dataset."
   ]
  },
  {
   "cell_type": "code",
   "execution_count": 20,
   "metadata": {},
   "outputs": [
    {
     "data": {
      "image/png": "[encoded data removed]",
      "text/plain": [
       "<Figure size 432x288 with 1 Axes>"
      ]
     },
     "metadata": {
      "needs_background": "light"
     },
     "output_type": "display_data"
    }
   ],
   "source": [
    "X_train, X_test, y_train, y_test = preprocessing()\n",
    "Xtrain_scale, Xtest_scale = scale(X_train, X_test, scaler='StandardScaler')\n",
    "\n",
    "KNN = KNeighborsClassifier(n_neighbors=5) \n",
    "scores = np.zeros(Xtrain_scale.shape[1]+1)\n",
    "for f in np.arange(0, Xtrain_scale.shape[1]+1):\n",
    "    X1_f = Xtrain_scale[:, sorted_idx[:f+1]]\n",
    "    X2_f = Xtest_scale[:, sorted_idx[:f+1]]\n",
    "    KNN.fit(X1_f, y_train)\n",
    "    YKNN=KNN.predict(X2_f) \n",
    "    scores[f]=np.round(accuracy_score(y_test, YKNN), 3)\n",
    "\n",
    "plt.plot(scores)\n",
    "plt.xlabel(\"Nombre de Variables\")\n",
    "plt.ylabel(\"Accuracy\")\n",
    "plt.title(\"Evolution de l'accuracy en fonction des variables\") \n",
    "plt.show()"
   ]
  },
  {
   "cell_type": "markdown",
   "metadata": {},
   "source": [
    "Note that the optimal accuracy is obtained with __7 variables__."
   ]
  },
  {
   "cell_type": "markdown",
   "metadata": {},
   "source": [
    "## 6. Classifier's parameters tuning"
   ]
  },
  {
   "cell_type": "code",
   "execution_count": 21,
   "metadata": {},
   "outputs": [
    {
     "data": {
      "text/plain": [
       "{'algorithm': 'auto',\n",
       " 'leaf_size': 30,\n",
       " 'metric': 'minkowski',\n",
       " 'metric_params': None,\n",
       " 'n_jobs': None,\n",
       " 'n_neighbors': 2,\n",
       " 'p': 2,\n",
       " 'weights': 'uniform'}"
      ]
     },
     "execution_count": 21,
     "metadata": {},
     "output_type": "execute_result"
    }
   ],
   "source": [
    "knn_model = KNeighborsClassifier(n_neighbors=5) \n",
    "\n",
    "parameters = {\n",
    "    'n_neighbors': np.arange(1, 30, 1)\n",
    "}\n",
    "\n",
    "clf = GridSearchCV(knn_model, parameters, scoring='precision')\n",
    "\n",
    "# Tests\n",
    "X_train, X_test, y_train, y_test = preprocessing()\n",
    "X_train, X_test = scale(X_train, X_test, scaler='StandardScaler')\n",
    "X_train_pca = add_pca_columns(X_train, X_train)\n",
    "X_test_pca = add_pca_columns(X_test, X_train)\n",
    "\n",
    "clf.fit(X_train_pca, y_train)\n",
    "clf.best_estimator_.get_params()"
   ]
  },
  {
   "cell_type": "code",
   "execution_count": 22,
   "metadata": {},
   "outputs": [
    {
     "data": {
      "text/plain": [
       "{'class_weight': None,\n",
       " 'criterion': 'entropy',\n",
       " 'max_depth': 5,\n",
       " 'max_features': None,\n",
       " 'max_leaf_nodes': None,\n",
       " 'min_impurity_decrease': 0.0,\n",
       " 'min_impurity_split': None,\n",
       " 'min_samples_leaf': 1,\n",
       " 'min_samples_split': 2,\n",
       " 'min_weight_fraction_leaf': 0.0,\n",
       " 'presort': False,\n",
       " 'random_state': 1,\n",
       " 'splitter': 'random'}"
      ]
     },
     "execution_count": 22,
     "metadata": {},
     "output_type": "execute_result"
    }
   ],
   "source": [
    "cart_model = DecisionTreeClassifier(random_state=1) \n",
    "\n",
    "parameters = {\n",
    "    'criterion': [\"gini\", \"entropy\"],\n",
    "    'splitter': [\"best\", \"random\"],\n",
    "    'max_depth': np.concatenate((np.arange(1,5), 5*np.arange(1,21)))\n",
    "}\n",
    "\n",
    "clf = GridSearchCV(cart_model, parameters, scoring='precision')\n",
    "\n",
    "# Tests\n",
    "X_train, X_test, y_train, y_test = preprocessing()\n",
    "X_train, X_test = scale(X_train, X_test, scaler='StandardScaler')\n",
    "X_train_pca = add_pca_columns(X_train, X_train)\n",
    "X_test_pca = add_pca_columns(X_test, X_train)\n",
    "\n",
    "clf.fit(X_train_pca, y_train)\n",
    "clf.best_estimator_.get_params()"
   ]
  },
  {
   "cell_type": "markdown",
   "metadata": {},
   "source": [
    "## 7. Pipeline creation"
   ]
  },
  {
   "cell_type": "markdown",
   "metadata": {},
   "source": [
    "### 7.1. Pipeline with K-nn"
   ]
  },
  {
   "cell_type": "code",
   "execution_count": 23,
   "metadata": {},
   "outputs": [
    {
     "name": "stdout",
     "output_type": "stream",
     "text": [
      "Best parameter (CV score=0.847):\n",
      "{'knn_model__n_neighbors': 2, 'new_pca_columns__pca__n_components': 2}\n"
     ]
    }
   ],
   "source": [
    "# Define the operators\n",
    "scaler = StandardScaler() # scale data for PCA\n",
    "new_pca_columns = FeatureUnion([\n",
    "    (\"pca\", PCA()), \n",
    "    (\"dummy_scaler\", StandardScaler())]) # add PCA columns to the dataset as new features  \n",
    "select_var = SelectKBest(f_classif, k=10) # select the 10 best features based on f_classif criteria\n",
    "knn_model = KNeighborsClassifier(n_neighbors=5) # classifier\n",
    "\n",
    "# Define a pipeline to search for the best combination\n",
    "knn_pipeline = Pipeline([\n",
    "    ('scaler', scaler),\n",
    "    ('new_pca_columns', new_pca_columns),\n",
    "    ('selecVar', select_var),\n",
    "    ('knn_model', knn_model) \n",
    "])\n",
    "\n",
    "# Load data\n",
    "X_train, X_test, y_train, y_test = preprocessing()\n",
    "\n",
    "# Gridsearch the pipeline\n",
    "param_grid = {\n",
    "    'new_pca_columns__pca__n_components': np.arange(1, 9),\n",
    "    'knn_model__n_neighbors': np.arange(1, 30)\n",
    "}\n",
    "\n",
    "search = GridSearchCV(knn_pipeline, param_grid, scoring='precision', iid=False, cv=5)\n",
    "search.fit(X_train, y_train)\n",
    "print(\"Best parameter (CV score=%0.3f):\" % search.best_score_)\n",
    "print(search.best_params_)\n",
    "\n",
    "# Save pipeline in a pickle\n",
    "pickle.dump(knn_pipeline, open('knn_pipeline.pkl', 'wb'))"
   ]
  },
  {
   "cell_type": "code",
   "execution_count": 24,
   "metadata": {},
   "outputs": [
    {
     "name": "stdout",
     "output_type": "stream",
     "text": [
      "Accuracy score: 0.6750457038391224\n",
      "Precision score: 0.8586688578471652\n",
      "Obtained with 2 neighbors in the knn and 2 principal components added\n"
     ]
    }
   ],
   "source": [
    "# Load the pipeline parameters from the .pkl file\n",
    "file_name = 'knn_pipeline.pkl'\n",
    "pipeline = pickle.load(open(file_name, 'rb'))\n",
    "\n",
    "# Apply the best pipeline to the test dataset\n",
    "best_pipeline = search.best_estimator_\n",
    "y_pred = best_pipeline.predict(X_test)\n",
    "y_true = y_test\n",
    "\n",
    "# Calculate accuracy and precision\n",
    "acc = accuracy_score(y_true, y_pred)\n",
    "tn, fp, fn, tp = confusion_matrix(y_true, y_pred).ravel()\n",
    "precision = tp / (tp + fp)\n",
    "\n",
    "# Print results\n",
    "print('Accuracy score: {}'.format(acc))\n",
    "print('Precision score: {}'.format(precision))\n",
    "print('Obtained with {} neighbors in the knn and {} principal components added'.format(\n",
    "    search.best_params_['knn_model__n_neighbors'],\n",
    "    search.best_params_['new_pca_columns__pca__n_components']\n",
    "))"
   ]
  },
  {
   "cell_type": "markdown",
   "metadata": {},
   "source": [
    "### 7.2. Pipeline with CART "
   ]
  },
  {
   "cell_type": "code",
   "execution_count": 25,
   "metadata": {},
   "outputs": [
    {
     "name": "stdout",
     "output_type": "stream",
     "text": [
      "Best parameter (CV score=0.827):\n",
      "{'cart_model__criterion': 'gini', 'cart_model__max_depth': 4, 'cart_model__splitter': 'random', 'new_pca_columns__pca__n_components': 2}\n"
     ]
    }
   ],
   "source": [
    "# Define the operators\n",
    "scaler = StandardScaler() # scale data for PCA\n",
    "new_pca_columns = FeatureUnion([\n",
    "    (\"pca\", PCA()), \n",
    "    (\"dummy_scaler\", StandardScaler())]) # add PCA columns to the dataset as new features  \n",
    "select_var = SelectKBest(f_classif, k=10) # select the 10 best features based on f_classif criteria\n",
    "cart_model = DecisionTreeClassifier(random_state=1) # classifier\n",
    "\n",
    "# Define a pipeline to search for the best combination\n",
    "cart_pipeline = Pipeline([\n",
    "    ('scaler', scaler),\n",
    "    ('new_pca_columns', new_pca_columns),\n",
    "    ('selecVar', select_var),\n",
    "    ('cart_model', cart_model) \n",
    "])\n",
    "\n",
    "# Load data\n",
    "X_train, X_test, y_train, y_test = preprocessing()\n",
    "\n",
    "# Gridsearch the pipeline\n",
    "param_grid = {\n",
    "    'new_pca_columns__pca__n_components': np.arange(1, 9),\n",
    "    'cart_model__criterion': [\"gini\", \"entropy\"],\n",
    "    'cart_model__splitter': [\"best\", \"random\"],\n",
    "    'cart_model__max_depth': np.concatenate((np.arange(1, 5), 5*np.arange(1, 21)))\n",
    "}\n",
    "\n",
    "search = GridSearchCV(cart_pipeline, param_grid, scoring='precision', iid=False, cv=5)\n",
    "search.fit(X_train, y_train)\n",
    "print(\"Best parameter (CV score=%0.3f):\" % search.best_score_)\n",
    "print(search.best_params_)\n",
    "\n",
    "# Save pipeline in a pickle\n",
    "pickle.dump(cart_pipeline, open('cart_pipeline.pkl', 'wb'))"
   ]
  },
  {
   "cell_type": "code",
   "execution_count": 26,
   "metadata": {},
   "outputs": [
    {
     "name": "stdout",
     "output_type": "stream",
     "text": [
      "Accuracy score: 0.7426873857404022\n",
      "Precision score: 0.8220820189274448\n",
      "Obtained with gini criterion, random splitter and max_depth = 4 in the CART model and 2 principal components added\n"
     ]
    }
   ],
   "source": [
    "# Load the pipeline parameters from the .pkl file\n",
    "file_name = 'cart_pipeline.pkl'\n",
    "pipeline = pickle.load(open(file_name, 'rb'))\n",
    "\n",
    "# Apply the best pipeline to the test dataset\n",
    "best_pipeline = search.best_estimator_\n",
    "y_pred = best_pipeline.predict(X_test)\n",
    "y_true = y_test\n",
    "\n",
    "# Calculate accuracy and precision\n",
    "acc = accuracy_score(y_true, y_pred)\n",
    "tn, fp, fn, tp = confusion_matrix(y_true, y_pred).ravel()\n",
    "precision = tp / (tp + fp)\n",
    "\n",
    "# Print results\n",
    "print('Accuracy score: {}'.format(acc))\n",
    "print('Precision score: {}'.format(precision))\n",
    "print('Obtained with {} criterion, {} splitter and max_depth = {} in the CART model and {} principal components added'.format(\n",
    "    search.best_params_['cart_model__criterion'],\n",
    "    search.best_params_['cart_model__splitter'],\n",
    "    search.best_params_['cart_model__max_depth'],\n",
    "    search.best_params_['new_pca_columns__pca__n_components']\n",
    "))"
   ]
  },
  {
   "cell_type": "markdown",
   "metadata": {},
   "source": [
    "The best pipeline with CART has a precision of 82.2% whereas the one with knn has a precision of 86%. We'll keep the knn model with 2 neighbors in the knn and 2 principal components added."
   ]
  },
  {
   "cell_type": "markdown",
   "metadata": {},
   "source": [
    "## 8. Comparing several algorithms"
   ]
  },
  {
   "cell_type": "code",
   "execution_count": 27,
   "metadata": {},
   "outputs": [],
   "source": [
    "clfs = {\n",
    "    'KNN':KNeighborsClassifier(n_neighbors=10),\n",
    "    'NBS': GaussianNB(),\n",
    "    'CART': DecisionTreeClassifier(criterion = 'gini'),\n",
    "    'ID3': DecisionTreeClassifier(criterion = 'entropy'),\n",
    "    'MLP10': MLPClassifier(hidden_layer_sizes=(10,)),\n",
    "    'MLP20': MLPClassifier(hidden_layer_sizes=(20,)),\n",
    "    'kNN5' : KNeighborsClassifier(n_neighbors=5),\n",
    "    'Bagg50': BaggingClassifier(n_estimators = 50),\n",
    "    'AdaBoost' : AdaBoostClassifier(n_estimators = 50),\n",
    "    'RF':RandomForestClassifier(n_estimators=50,random_state=1),\n",
    "}"
   ]
  },
  {
   "cell_type": "code",
   "execution_count": 28,
   "metadata": {},
   "outputs": [
    {
     "name": "stdout",
     "output_type": "stream",
     "text": [
      "Precision for KNN is: 0.816 +/- 0.021\n",
      "Precision for NBS is: 0.841 +/- 0.019\n",
      "Precision for CART is: 0.810 +/- 0.016\n",
      "Precision for ID3 is: 0.808 +/- 0.018\n",
      "Precision for MLP10 is: 0.827 +/- 0.018\n",
      "Precision for MLP20 is: 0.831 +/- 0.017\n",
      "Precision for kNN5 is: 0.813 +/- 0.021\n",
      "Precision for Bagg50 is: 0.828 +/- 0.016\n",
      "Precision for AdaBoost is: 0.824 +/- 0.016\n",
      "Precision for RF is: 0.820 +/- 0.015\n"
     ]
    }
   ],
   "source": [
    "X_train, X_test, y_train, y_test = preprocessing(test_size=.1)\n",
    "X_train, X_test = scale(X_train, X_test, scaler='StandardScaler')\n",
    "X_train_pca = add_pca_columns(X_train, X_train)\n",
    "X_test_pca = add_pca_columns(X_test, X_train)\n",
    "\n",
    "kf = KFold(n_splits=10, shuffle=True, random_state=0) \n",
    "\n",
    "for key in clfs:\n",
    "    \n",
    "    clf = clfs[key]\n",
    "    cv_precision = cross_val_score(clf, X_train, y_train, cv=kf, scoring='precision')\n",
    "    print(\"Precision for {0} is: {1:.3f} +/- {2:.3f}\".format(key, np.mean(cv_precision), np.std(cv_precision)))\n"
   ]
  },
  {
   "cell_type": "markdown",
   "metadata": {},
   "source": [
    "It turns out the best presicion is obtained with the NBS classifier."
   ]
  },
  {
   "cell_type": "code",
   "execution_count": null,
   "metadata": {},
   "outputs": [],
   "source": []
  }
 ],
 "metadata": {
  "kernelspec": {
   "display_name": "Python 3",
   "language": "python",
   "name": "python3"
  },
  "language_info": {
   "codemirror_mode": {
    "name": "ipython",
    "version": 3
   },
   "file_extension": ".py",
   "mimetype": "text/x-python",
   "name": "python",
   "nbconvert_exporter": "python",
   "pygments_lexer": "ipython3",
   "version": "3.7.6"
  }
 },
 "nbformat": 4,
 "nbformat_minor": 2
}
